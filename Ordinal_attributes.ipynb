{
  "nbformat": 4,
  "nbformat_minor": 0,
  "metadata": {
    "colab": {
      "provenance": [],
      "include_colab_link": true
    },
    "kernelspec": {
      "name": "python3",
      "display_name": "Python 3"
    },
    "language_info": {
      "name": "python"
    }
  },
  "cells": [
    {
      "cell_type": "markdown",
      "metadata": {
        "id": "view-in-github",
        "colab_type": "text"
      },
      "source": [
        "<a href=\"https://colab.research.google.com/github/SamkitBansal/Data-Mining/blob/main/Ordinal_attributes.ipynb\" target=\"_parent\"><img src=\"https://colab.research.google.com/assets/colab-badge.svg\" alt=\"Open In Colab\"/></a>"
      ]
    },
    {
      "cell_type": "code",
      "execution_count": null,
      "metadata": {
        "id": "QOP2EYIry-aI"
      },
      "outputs": [],
      "source": [
        "import numpy as np\n",
        "\n",
        "def dissimilarity_matrix(patients):\n",
        "\n",
        "    ranks = {\"poor\": 1, \"fair\": 2, \"good\": 3, \"very good\": 4, \"excellent\": 5}\n",
        "\n",
        "    def normalise(x, a=1, b=5):\n",
        "        return (x - a) / (b - a)\n",
        "\n",
        "    norm_values = [normalise(ranks[p]) for p in patients]\n",
        "\n",
        "    n = len(norm_values)\n",
        "    matrix = np.zeros((n, n))\n",
        "    for i in range(n):\n",
        "        for j in range(n):\n",
        "            matrix[i][j] = abs(norm_values[i] - norm_values[j])\n",
        "\n",
        "    return matrix, norm_values\n"
      ]
    },
    {
      "cell_type": "code",
      "source": [
        "def main():\n",
        "\n",
        "  n = int(input(\"Enter the number of patients: \"))\n",
        "\n",
        "  patients = []\n",
        "  print(\"Enter the data of the patients (poor, fair, good, very good, excellent):\")\n",
        "\n",
        "  for i in range(n):\n",
        "      print(f\"\\nPatient {i+1}\")\n",
        "      patients.append(input(\"Enter the patient's rating: \"))\n",
        "\n",
        "  matrix, norm_values = dissimilarity_matrix(patients)\n",
        "\n",
        "  print(\"\\nNormalized values:\", norm_values)\n",
        "  print(\"\\nDissimilarity Matrix:\")\n",
        "  print(matrix)"
      ],
      "metadata": {
        "id": "s0v8SEa-1x23"
      },
      "execution_count": null,
      "outputs": []
    },
    {
      "cell_type": "code",
      "source": [
        "if __name__ == \"__main__\":\n",
        "  main()\n"
      ],
      "metadata": {
        "colab": {
          "base_uri": "https://localhost:8080/"
        },
        "id": "Iy94BeYw3IfS",
        "outputId": "8ae8aaec-cf98-419e-c59a-14b4dfe8c4f6"
      },
      "execution_count": null,
      "outputs": [
        {
          "output_type": "stream",
          "name": "stdout",
          "text": [
            "Enter the number of patients: 2\n",
            "Enter the data of the patients (poor, fair, good, very good, excellent):\n",
            "\n",
            "Patient 1\n",
            "Enter the patient's rating: good\n",
            "\n",
            "Patient 2\n",
            "Enter the patient's rating: poor\n",
            "\n",
            "Normalized values: [0.5, 0.0]\n",
            "\n",
            "Dissimilarity Matrix:\n",
            "[[0.  0.5]\n",
            " [0.5 0. ]]\n"
          ]
        }
      ]
    }
  ]
}