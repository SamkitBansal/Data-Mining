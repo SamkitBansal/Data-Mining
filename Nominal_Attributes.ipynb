{
  "nbformat": 4,
  "nbformat_minor": 0,
  "metadata": {
    "colab": {
      "provenance": [],
      "include_colab_link": true
    },
    "kernelspec": {
      "name": "python3",
      "display_name": "Python 3"
    },
    "language_info": {
      "name": "python"
    }
  },
  "cells": [
    {
      "cell_type": "markdown",
      "metadata": {
        "id": "view-in-github",
        "colab_type": "text"
      },
      "source": [
        "<a href=\"https://colab.research.google.com/github/SamkitBansal/Data-Mining/blob/main/Nominal_Attributes.ipynb\" target=\"_parent\"><img src=\"https://colab.research.google.com/assets/colab-badge.svg\" alt=\"Open In Colab\"/></a>"
      ]
    },
    {
      "cell_type": "code",
      "source": [
        "def computeDissimilarityMatrix(objects):\n",
        "\n",
        "  n= len(objects)\n",
        "\n",
        "  dissimilarity_Matrix= [[0 for i in range(n)] for _ in range(n)]\n",
        "\n",
        "  for i in range(n):\n",
        "    for j in range(n):\n",
        "\n",
        "      if(objects[i]==objects[j]):\n",
        "        dissimilarity_Matrix[i][j]=1\n",
        "\n",
        "  return dissimilarity_Matrix"
      ],
      "metadata": {
        "id": "3pvwYWRGr9aY"
      },
      "execution_count": null,
      "outputs": []
    },
    {
      "cell_type": "code",
      "execution_count": null,
      "metadata": {
        "id": "Dz5SGFi8rKtg"
      },
      "outputs": [],
      "source": [
        "def main():\n",
        "  objects=[]\n",
        "\n",
        "  n = int(input(\"Enter number of objects: \"))\n",
        "  print(\"Enter attribute values (nominal, e.g., red, yellow, blue):\")\n",
        "  for i in range(n):\n",
        "    value= input(f\"Enter the colour of object {i+1}: \")\n",
        "    objects.append(value)\n",
        "\n",
        "  print(objects)\n",
        "\n",
        "  dissimilarity_Matrix= computeDissimilarityMatrix(objects)\n",
        "\n",
        "  print(\"Dissimilarity_Matrix: \")\n",
        "\n",
        "  for row in dissimilarity_Matrix:\n",
        "    print(row)\n",
        "\n",
        "\n",
        "\n"
      ]
    },
    {
      "cell_type": "code",
      "source": [
        "if __name__ == \"__main__\":\n",
        "  main()"
      ],
      "metadata": {
        "colab": {
          "base_uri": "https://localhost:8080/"
        },
        "id": "_D6fo65Msvql",
        "outputId": "2ff8c090-08ce-4c95-f12e-979282b8a76e"
      },
      "execution_count": null,
      "outputs": [
        {
          "output_type": "stream",
          "name": "stdout",
          "text": [
            "Enter number of objects: 3\n",
            "Enter attribute values (nominal, e.g., red, yellow, blue):\n",
            "Enter the colour of object 1: red\n",
            "Enter the colour of object 2: blue\n",
            "Enter the colour of object 3: red\n",
            "['red', 'blue', 'red']\n",
            "Dissimilarity_Matrix: \n",
            "[1, 0, 1]\n",
            "[0, 1, 0]\n",
            "[1, 0, 1]\n"
          ]
        }
      ]
    }
  ]
}