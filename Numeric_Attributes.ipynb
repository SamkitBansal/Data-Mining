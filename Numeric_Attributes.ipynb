{
  "nbformat": 4,
  "nbformat_minor": 0,
  "metadata": {
    "colab": {
      "provenance": [],
      "include_colab_link": true
    },
    "kernelspec": {
      "name": "python3",
      "display_name": "Python 3"
    },
    "language_info": {
      "name": "python"
    }
  },
  "cells": [
    {
      "cell_type": "markdown",
      "metadata": {
        "id": "view-in-github",
        "colab_type": "text"
      },
      "source": [
        "<a href=\"https://colab.research.google.com/github/SamkitBansal/Data-Mining/blob/main/Numeric_Attributes.ipynb\" target=\"_parent\"><img src=\"https://colab.research.google.com/assets/colab-badge.svg\" alt=\"Open In Colab\"/></a>"
      ]
    },
    {
      "cell_type": "code",
      "execution_count": null,
      "metadata": {
        "id": "Z8gZ3hAUu3LR"
      },
      "outputs": [],
      "source": [
        "# 2.6 Given two objects represented by the tuples (22, 1, 42, 10) and (20, 0, 36, 8):\n",
        "# (a) Compute the Euclidean distance between the two objects.\n",
        "# (b) Compute the Manhattan distance between the two objects.\n",
        "# (c) Compute the Minkowski distance between the two objects, using q"
      ]
    },
    {
      "cell_type": "code",
      "source": [
        "def manhattan(a, b):\n",
        "\n",
        "  n=len(a)\n",
        "  dist=0\n",
        "  for i in range(n):\n",
        "    dist+= abs(a[i]-b[i])\n",
        "  return dist"
      ],
      "metadata": {
        "id": "HRZCCaYgvAhw"
      },
      "execution_count": null,
      "outputs": []
    },
    {
      "cell_type": "code",
      "source": [
        "def eucledian(a, b):\n",
        "\n",
        "  n=len(a)\n",
        "  dist=0\n",
        "  for i in range(n):\n",
        "    dist += (a[i] - b[i]) ** 2\n",
        "  return dist ** 0.5"
      ],
      "metadata": {
        "id": "4lukIUW9vcXl"
      },
      "execution_count": null,
      "outputs": []
    },
    {
      "cell_type": "code",
      "source": [
        "def minkowski(a, b, q):\n",
        "\n",
        "  n=len(a)\n",
        "  dist=0\n",
        "  for i in range(n):\n",
        "    dist += abs(a[i] - b[i]) ** q\n",
        "  return dist ** (1/q)"
      ],
      "metadata": {
        "id": "E3ChGddHwXVj"
      },
      "execution_count": null,
      "outputs": []
    },
    {
      "cell_type": "code",
      "source": [
        "def supremum(a, b):\n",
        "\n",
        "  n=len(a)\n",
        "  dist=0\n",
        "  for i in range(n):\n",
        "    dist= max(dist,  abs(a[i]-b[i]))\n",
        "  return dist\n"
      ],
      "metadata": {
        "id": "zcNBrQGexM-2"
      },
      "execution_count": null,
      "outputs": []
    },
    {
      "cell_type": "code",
      "source": [
        "def main():\n",
        "\n",
        "  a = []\n",
        "  b = []\n",
        "\n",
        "  n = int(input(\"Enter number of attributes: \"))\n",
        "\n",
        "  print(\"Enter attribute values for first tuple: \")\n",
        "  for i in range(n):\n",
        "      val = int(input())\n",
        "      a.append(val)\n",
        "\n",
        "  print(\"Enter attribute values for second tuple: \")\n",
        "  for i in range(n):\n",
        "      val = int(input())\n",
        "      b.append(val)\n",
        "\n",
        "  print(\"Manhattan Distance: \", manhattan(a, b))\n",
        "  print(\"Euclidean Distance: \", eucledian(a, b))\n",
        "  print(\"Minkowski Distance (p=3): \", minkowski(a, b, 3))\n",
        "  print(\"Supremum Distance: \", supremum(a, b))"
      ],
      "metadata": {
        "id": "4FgmQEPzwJd1"
      },
      "execution_count": null,
      "outputs": []
    },
    {
      "cell_type": "code",
      "source": [
        "if __name__ == \"__main__\":\n",
        "  main()"
      ],
      "metadata": {
        "colab": {
          "base_uri": "https://localhost:8080/"
        },
        "id": "lvmCcr9Rx83T",
        "outputId": "498ed6f7-9b84-43b6-e7a3-1b973e0d9d8b"
      },
      "execution_count": null,
      "outputs": [
        {
          "output_type": "stream",
          "name": "stdout",
          "text": [
            "Enter number of attributes: 4\n",
            "Enter attribute values for first tuple: \n",
            "22\n",
            "1\n",
            "42\n",
            "10\n",
            "Enter attribute values for second tuple: \n",
            "20\n",
            "0\n",
            "36\n",
            "8\n",
            "Manhattan Distance:  11\n",
            "Euclidean Distance:  6.708203932499369\n",
            "Minkowski Distance (p=3):  6.153449493663682\n",
            "Supremum Distance:  6\n"
          ]
        }
      ]
    }
  ]
}