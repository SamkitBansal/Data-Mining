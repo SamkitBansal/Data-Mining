{
  "nbformat": 4,
  "nbformat_minor": 0,
  "metadata": {
    "colab": {
      "provenance": [],
      "include_colab_link": true
    },
    "kernelspec": {
      "name": "python3",
      "display_name": "Python 3"
    },
    "language_info": {
      "name": "python"
    }
  },
  "cells": [
    {
      "cell_type": "markdown",
      "metadata": {
        "id": "view-in-github",
        "colab_type": "text"
      },
      "source": [
        "<a href=\"https://colab.research.google.com/github/SamkitBansal/Data-Mining/blob/main/Dissimilarity_Binary_Attribute.ipynb\" target=\"_parent\"><img src=\"https://colab.research.google.com/assets/colab-badge.svg\" alt=\"Open In Colab\"/></a>"
      ]
    },
    {
      "cell_type": "code",
      "source": [
        "def eucledian(object1, object2):\n",
        "\n",
        "  distance=0;\n",
        "  m= len(object1)\n",
        "\n",
        "  for i in range(m):\n",
        "    distance += (object1[i]-object2[i])**2\n",
        "\n",
        "  return distance**0.5"
      ],
      "metadata": {
        "id": "U5DaalE0xFH6"
      },
      "execution_count": null,
      "outputs": []
    },
    {
      "cell_type": "code",
      "execution_count": null,
      "metadata": {
        "id": "29-fDmOfwg32"
      },
      "outputs": [],
      "source": [
        "def computeDissimilarityMatrix(objects):\n",
        "\n",
        "  n= len(objects)\n",
        "  dissimilarity_matrix= [[0 for i in range(n)] for _ in range(n)]\n",
        "\n",
        "  for i in range(n):\n",
        "    for j in range(n):\n",
        "\n",
        "      dissimilarity_matrix[i][j]= eucledian(objects[i], objects[j])\n",
        "\n",
        "  return dissimilarity_matrix\n",
        "\n"
      ]
    },
    {
      "cell_type": "code",
      "source": [
        "def main():\n",
        "\n",
        "    n = int(input(\"Enter the number of Objects: \"))\n",
        "    m = int(input(\"Enter the number of binary Attributes: \"))\n",
        "\n",
        "\n",
        "    attributes = []\n",
        "    print(\"\\nEnter the name of the Binary Attributes:\")\n",
        "    for i in range(m):\n",
        "        attributes.append(input(f\"Enter attribute {i+1}: \"))\n",
        "\n",
        "    print(\"\\nEnter the values (0/1) for each object:\")\n",
        "    objects = [[0 for _ in range(m)] for _ in range(n)]\n",
        "\n",
        "    for i in range(n):\n",
        "        print(f\"\\nObject {i+1}:\")\n",
        "        for j in range(m):\n",
        "            objects[i][j] = int(input(f\"  {attributes[j]} (0/1): \"))\n",
        "\n",
        "    for i in range(n):\n",
        "        print(f\"\\nObject {i+1}:\")\n",
        "        for j in range(m):\n",
        "            print(f\"  {attributes[j]}: {objects[i][j]}\")\n",
        "\n",
        "    matrix = computeDissimilarityMatrix(objects)\n",
        "\n",
        "    print(\"\\nDissimilarity Matrix:\")\n",
        "    for row in matrix:\n",
        "        print(row)\n"
      ],
      "metadata": {
        "id": "_XBQ529sxf23"
      },
      "execution_count": null,
      "outputs": []
    },
    {
      "cell_type": "code",
      "source": [
        "1\n",
        "if __name__ == \"__main__\":\n",
        "  main()"
      ],
      "metadata": {
        "colab": {
          "base_uri": "https://localhost:8080/"
        },
        "id": "VMiacXQXziBZ",
        "outputId": "f5b5d2e6-fe6c-484f-a02b-633bf12a36e9"
      },
      "execution_count": null,
      "outputs": [
        {
          "output_type": "stream",
          "name": "stdout",
          "text": [
            "Enter the number of Objects: 2\n",
            "Enter the number of binary Attributes: 2\n",
            "\n",
            "Enter the name of the Binary Attributes:\n",
            "Enter attribute 1: Cough\n",
            "Enter attribute 2: Cold\n",
            "\n",
            "Enter the values (0/1) for each object:\n",
            "\n",
            "Object 1:\n",
            "  Cough (0/1): 1\n",
            "  Cold (0/1): 1\n",
            "\n",
            "Object 2:\n",
            "  Cough (0/1): 0\n",
            "  Cold (0/1): 1\n",
            "\n",
            "Object 1:\n",
            "  Cough: 1\n",
            "  Cold: 1\n",
            "\n",
            "Object 2:\n",
            "  Cough: 0\n",
            "  Cold: 1\n",
            "\n",
            "Dissimilarity Matrix:\n",
            "[0.0, 1.0]\n",
            "[1.0, 0.0]\n"
          ]
        }
      ]
    }
  ]
}