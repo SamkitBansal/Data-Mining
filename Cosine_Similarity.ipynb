{
  "nbformat": 4,
  "nbformat_minor": 0,
  "metadata": {
    "colab": {
      "provenance": [],
      "include_colab_link": true
    },
    "kernelspec": {
      "name": "python3",
      "display_name": "Python 3"
    },
    "language_info": {
      "name": "python"
    }
  },
  "cells": [
    {
      "cell_type": "markdown",
      "metadata": {
        "id": "view-in-github",
        "colab_type": "text"
      },
      "source": [
        "<a href=\"https://colab.research.google.com/github/SamkitBansal/Data-Mining/blob/main/Cosine_Similarity.ipynb\" target=\"_parent\"><img src=\"https://colab.research.google.com/assets/colab-badge.svg\" alt=\"Open In Colab\"/></a>"
      ]
    },
    {
      "cell_type": "code",
      "source": [
        "import numpy as np"
      ],
      "metadata": {
        "id": "VWDzNPIM4Y2l"
      },
      "execution_count": null,
      "outputs": []
    },
    {
      "cell_type": "code",
      "execution_count": null,
      "metadata": {
        "id": "qBnQ1rKJ32z1"
      },
      "outputs": [],
      "source": [
        "def cosine(a, b):\n",
        "\n",
        "  return np.dot(a, b) / (np.linalg.norm(a) * np.linalg.norm(b))"
      ]
    },
    {
      "cell_type": "code",
      "source": [
        "def main():\n",
        "\n",
        "  a = np.array(list(map(float, input(\"Enter first vector (space-separated): \").split())))\n",
        "  b = np.array(list(map(float, input(\"Enter second vector (space-separated): \").split())))\n",
        "\n",
        "\n",
        "  sim = cosine(a, b)\n",
        "  print(\"Cosine Similarity:\", sim)"
      ],
      "metadata": {
        "id": "b-GSJ8xm4qOp"
      },
      "execution_count": null,
      "outputs": []
    },
    {
      "cell_type": "code",
      "source": [
        "if __name__ == \"__main__\":\n",
        "    main()"
      ],
      "metadata": {
        "colab": {
          "base_uri": "https://localhost:8080/"
        },
        "id": "3RHlADh25F_h",
        "outputId": "76fb3b2d-4929-4a45-96de-325e883d72b0"
      },
      "execution_count": null,
      "outputs": [
        {
          "output_type": "stream",
          "name": "stdout",
          "text": [
            "Enter first vector (space-separated): 10 20 20\n",
            "Enter second vector (space-separated): 10 20 20\n",
            "Cosine Similarity: 1.0\n"
          ]
        }
      ]
    }
  ]
}